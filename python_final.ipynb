{
 "cells": [
  {
   "cell_type": "code",
   "execution_count": 24,
   "id": "4891207c",
   "metadata": {},
   "outputs": [],
   "source": [
    "import requests\n",
    "import json\n",
    "import re\n",
    "from lxml import etree\n",
    "import time\n",
    "import csv\n",
    "import pandas as pd\n",
    "import random\n",
    "import os"
   ]
  },
  {
   "cell_type": "code",
   "execution_count": 25,
   "id": "2d919daa",
   "metadata": {},
   "outputs": [],
   "source": [
    "#选择30个用于爬虫的网站\n",
    "webs = [\n",
    "    \"https://movie.douban.com/subject/25728006/comments?\", \n",
    "    \"https://movie.douban.com/subject/26260853/comments?\", \n",
    "    \"https://movie.douban.com/subject/4286017/comments?\", \n",
    "    \"https://movie.douban.com/subject/27163278/comments?\",\n",
    "    \"https://movie.douban.com/subject/6537500/comments?\", \n",
    "    \"https://movie.douban.com/subject/1307442/comments?\",\n",
    "    \"https://movie.douban.com/subject/2132930/comments?\",\n",
    "    \"https://movie.douban.com/subject/35267208/comments?\",\n",
    "    \"https://movie.douban.com/subject/1292052/comments?\",\n",
    "    \"https://movie.douban.com/subject/1292722/comments?\",\n",
    "    \"https://movie.douban.com/subject/26752088/comments?\",\n",
    "    \"https://movie.douban.com/subject/1291561/comments?\",\n",
    "    \"https://movie.douban.com/subject/1295644/comments?\",\n",
    "    \"https://movie.douban.com/subject/25662329/comments?\",\n",
    "    \"https://movie.douban.com/subject/1292720/comments?\",\n",
    "    \"https://movie.douban.com/subject/1291546/comments?\",\n",
    "    \"https://movie.douban.com/subject/34941536/comments?\",\n",
    "    \"https://movie.douban.com/subject/1889243/comments?\",\n",
    "    \"https://movie.douban.com/subject/20495023/comments?\",\n",
    "    \"https://movie.douban.com/subject/26794435/comments?\",\n",
    "    \"https://movie.douban.com/subject/27060077/comments?\",\n",
    "    \"https://movie.douban.com/subject/1292064/comments?\",\n",
    "    \"https://movie.douban.com/subject/3319755/comments?\",\n",
    "    \"https://movie.douban.com/subject/3541415/comments?\",\n",
    "    \"https://movie.douban.com/subject/26387939/comments?\",\n",
    "    \"https://movie.douban.com/subject/3742360/comments?\",\n",
    "    \"https://movie.douban.com/subject/3793023/comments?\",\n",
    "    \"https://movie.douban.com/subject/26683290/comments?\",\n",
    "    \"https://movie.douban.com/subject/1292001/comments?\",\n",
    "    \"https://movie.douban.com/subject/7065154/comments?\",\n",
    "]"
   ]
  },
  {
   "cell_type": "code",
   "execution_count": 3,
   "id": "44b9c07b",
   "metadata": {},
   "outputs": [],
   "source": [
    "#清空csv文件\n",
    "file_path = \".\\pinglun.csv\"\n",
    "\n",
    "if os.path.isfile(file_path):\n",
    "    with open(file_path, \"w\") as f:\n",
    "        f.truncate()"
   ]
  },
  {
   "cell_type": "code",
   "execution_count": 67,
   "id": "f3871aa5",
   "metadata": {
    "scrolled": false
   },
   "outputs": [],
   "source": [
    "#爬取用户对于电影的评论和星星数，并将数据存入csv文件\n",
    "def crawler(url):\n",
    "    for number in range(11):\n",
    "        num = number * 20\n",
    "        start = str(num)\n",
    "        url = url\n",
    "#         url = \"https://movie.douban.com/subject/23761370/comments?\"\n",
    "#         url = \"https://movie.douban.com/subject/1418200/comments?\"\n",
    "        param = {\n",
    "            \"percent_type\": \"\",\n",
    "            \"start\": start,\n",
    "            \"limit\": \"20\",\n",
    "            \"status\": \"P\",\n",
    "            \"sort\": \"new_score\",\n",
    "            \"comments_only\": \"1\"\n",
    "        }\n",
    "        headers = {'User-Agent': 'Mozilla/5.0 (Windows NT 10.0; Win64; x64) AppleWebKit/537.36 (KHTML, like Gecko) Chrome/92.0.4515.107 Safari/537.36 Edg/92.0.902.55'}\n",
    "\n",
    "        try:\n",
    "            res_text = requests.get(url=url, params=param, headers=headers).text\n",
    "            res_html = json.loads(res_text)[\"html\"]\n",
    "            star = re.findall(\"allstar..\", res_html)\n",
    "            comments = etree.HTML(res_html).xpath(\"//span[contains(@class, 'short')]/text()\")\n",
    "        except json.JSONDecodeError:\n",
    "            print(\"JSONDecodeError: Skipping URL {}\".format(number))\n",
    "            continue\n",
    "    \n",
    "#         res_text = requests.get(url=url, params=param, headers=headers).text\n",
    "#         res_html = json.loads(res_text)[\"html\"]\n",
    "#         star = re.findall(\"allstar..\", res_html)\n",
    "#         comments = etree.HTML(res_html).xpath(\"//span[contains(@class, 'short')]/text()\")\n",
    "    \n",
    "        table = [0] * len(star)\n",
    "        for i in range(len(star)):\n",
    "            star[i] = star[i][-2:-1]\n",
    "            if int(star[i]) >= 4:\n",
    "                table[i] = 1\n",
    "            else:\n",
    "                table[i] = 0\n",
    "            \n",
    "    \n",
    "        if len(star)==len(comments):\n",
    "            zipped = zip(star, comments, table)\n",
    "            result = list(zipped)\n",
    "\n",
    "            if os.path.getsize(\".\\pinglun.csv\"):\n",
    "                header = ('star','comment','table')\n",
    "                df = pd.DataFrame(result)\n",
    "                df.to_csv('.\\pinglun.csv',mode='w', header=header, index=False, quoting=csv.QUOTE_ALL, encoding='utf_8_sig')\n",
    "        \n",
    "            else:\n",
    "                f = pd.DataFrame(result)\n",
    "                df.to_csv('.\\pinglun.csv',mode='a', header=False, index=False, quoting=csv.QUOTE_ALL, encoding='utf_8_sig')\n",
    "        \n",
    "#             df = pd.DataFrame(result)\n",
    "#             df.to_csv('.\\comment.csv',mode='a', header=False, index=False, quoting=csv.QUOTE_ALL, encoding='utf_8_sig')\n",
    "        \n",
    "#             if number == 0:\n",
    "#                 header = ('star','comment','table')\n",
    "#                 df = pd.DataFrame(result)\n",
    "#                 df.to_csv('.\\pinglun.csv',mode='a', header=header, index=False, quoting=csv.QUOTE_ALL, encoding='utf_8_sig')\n",
    "#                 df.to_csv('.\\pinglun.csv',mode='w', header=header, index=False, quoting=csv.QUOTE_ALL, encoding='utf_8_sig')\n",
    "#             else:\n",
    "#                 df = pd.DataFrame(result)\n",
    "#                 df.to_csv('.\\pinglun.csv',mode='a', header=False, index=False, quoting=csv.QUOTE_ALL, encoding='utf_8_sig')\n",
    "                \n",
    "#         if number == 0:\n",
    "#             with open(\".\\pinglun.csv\", mode = \"w\",newline='')as file:\n",
    "#                 writer = csv.writer(file)\n",
    "#                 for row in result:\n",
    "#                     writer.writerow(row)\n",
    "#         else:\n",
    "#             with open(\".\\pinglun.csv\", mode = \"a\",newline='')as file:\n",
    "#                 writer = csv.writer(file)\n",
    "#                 for row in result:\n",
    "#                     writer.writerow(row)\n",
    "            \n",
    "            print(\"done\",number)\n",
    "    \n",
    "        t = random.randint(1, 6)   \n",
    "        time.sleep(t)\n",
    "    "
   ]
  },
  {
   "cell_type": "code",
   "execution_count": 1,
   "id": "4dd0bba1",
   "metadata": {
    "scrolled": true
   },
   "outputs": [],
   "source": [
    "#爬取数据\n",
    "for web in webs:\n",
    "    crawler(web)"
   ]
  },
  {
   "cell_type": "code",
   "execution_count": 4,
   "id": "94d402b0",
   "metadata": {},
   "outputs": [],
   "source": [
    "# 去除中文停用词\n",
    "def drop_stop_words(st_path, word_list):\n",
    "\n",
    "    with open(st_path, 'r') as f:\n",
    "        st = f.read()\n",
    "        st_list = st.splitlines()\n",
    "\n",
    "    for stop_word in st_list:\n",
    "        word_list = [word for word in word_list if word != stop_word]\n",
    "    return word_list"
   ]
  },
  {
   "cell_type": "code",
   "execution_count": 5,
   "id": "ae3ce9bd",
   "metadata": {},
   "outputs": [],
   "source": [
    "#除去非中文的特殊符号\n",
    "def drop_non_chinese(text):\n",
    "    pattern = re.compile(r'[^\\u4e00-\\u9fa5]')\n",
    "    chinese_text = re.sub(pattern, '', text)\n",
    "    return chinese_text"
   ]
  },
  {
   "cell_type": "code",
   "execution_count": 95,
   "id": "0c494640",
   "metadata": {
    "scrolled": true
   },
   "outputs": [],
   "source": [
    "#分词并统计词频\n",
    "import jieba\n",
    "\n",
    "file_path_1 = \".\\pinglun.txt\"\n",
    "txt = open(\".\\pinglun.txt\",\"r\",encoding = \"gbk\").read()\n",
    "\n",
    "words = drop_non_chinese(txt)\n",
    "words = jieba.lcut(words)\n",
    "words = drop_stop_words(r'D:\\Loaddownbag\\nlp\\sentiment\\data\\stop_words.txt', words)\n",
    "\n",
    "counts = {}\n",
    "for word in words:\n",
    "    if len(word) == 1:\n",
    "        continue\n",
    "    else:\n",
    "        counts[word] = counts.get(word, 0) + 1\n",
    "items = list(counts.items())\n",
    "items.sort(key = lambda x:x[1], reverse = True)\n",
    "            "
   ]
  },
  {
   "cell_type": "code",
   "execution_count": 96,
   "id": "409e7f8b",
   "metadata": {},
   "outputs": [
    {
     "name": "stdout",
     "output_type": "stream",
     "text": [
      "动画,106\n",
      "每个,105\n",
      "应该,104\n",
      "看过,104\n",
      "特别,103\n",
      "激情,103\n",
      "时间,102\n",
      "结尾,101\n",
      "情节,101\n",
      "作品,100\n",
      "音乐,100\n",
      "自由,100\n",
      "一次,99\n",
      "一起,99\n",
      "美国,98\n",
      "煽情,98\n",
      "主角,97\n",
      "意义,96\n",
      "画面,96\n",
      "真正,96\n",
      "一定,95\n",
      "美好,95\n",
      "成为,94\n",
      "速度,94\n",
      "无法,93\n",
      "情感,93\n",
      "社会,92\n",
      "阿甘,91\n",
      "叙事,90\n",
      "女儿,90\n",
      "生命,90\n",
      "楚门,90\n",
      "成功,89\n",
      "设定,89\n",
      "之后,88\n",
      "真实,88\n",
      "电影院,88\n",
      "地球,87\n",
      "诺兰,87\n",
      "存在,86\n",
      "特效,86\n",
      "一点,85\n",
      "主题,84\n",
      "地方,84\n",
      "一些,84\n",
      "演员,83\n",
      "实在,82\n",
      "飙车,82\n",
      "变成,82\n",
      "东西,82\n"
     ]
    }
   ],
   "source": [
    "for i in range(50,100):\n",
    "    word, count = items[i]\n",
    "    print(\"{0},{1}\".format(word,count))"
   ]
  },
  {
   "cell_type": "code",
   "execution_count": 105,
   "id": "28907fd6",
   "metadata": {},
   "outputs": [],
   "source": [
    "#绘制词云\n",
    "# import wordcloud\n",
    "\n",
    "# tf = \" \".join(words)\n",
    "# w = wordcloud.WordCloud(width = 1000, height = 800, background_color = \"white\",font_path = \"STCAIYUN.TTF\", max_words = 50)\n",
    "# w.generate(tf)\n",
    "# w.to_file(\"pinglun.png\")"
   ]
  },
  {
   "cell_type": "code",
   "execution_count": 1,
   "id": "7581aaf0",
   "metadata": {},
   "outputs": [],
   "source": [
    "import numpy as np\n",
    "from matplotlib import pyplot as plt\n",
    "import seaborn as sns\n",
    "import pandas as pd\n",
    "import re\n",
    "import jieba\n",
    "import gensim\n",
    "from sklearn.model_selection import train_test_split\n",
    "import torch\n",
    "from torch import nn\n",
    "from torch.utils.data import DataLoader, TensorDataset\n",
    "from sklearn.metrics import confusion_matrix"
   ]
  },
  {
   "cell_type": "code",
   "execution_count": 2,
   "id": "0c8f1b72",
   "metadata": {},
   "outputs": [
    {
     "name": "stderr",
     "output_type": "stream",
     "text": [
      "C:\\Users\\lenovo\\AppData\\Local\\Temp\\ipykernel_19544\\1444427880.py:6: UserWarning: \n",
      "\n",
      "`distplot` is a deprecated function and will be removed in seaborn v0.14.0.\n",
      "\n",
      "Please adapt your code to use either `displot` (a figure-level function with\n",
      "similar flexibility) or `histplot` (an axes-level function for histograms).\n",
      "\n",
      "For a guide to updating your code to use the new functions, please see\n",
      "https://gist.github.com/mwaskom/de44147ed2974457ad6372750bbe5751\n",
      "\n",
      "  sns.distplot(data['star'], bins=5, kde=False, norm_hist=True)\n"
     ]
    },
    {
     "data": {
      "image/png": "[encoded data removed]",
      "text/plain": [
       "<Figure size 432x288 with 1 Axes>"
      ]
     },
     "metadata": {
      "needs_background": "light"
     },
     "output_type": "display_data"
    },
    {
     "name": "stdout",
     "output_type": "stream",
     "text": [
      "正面评价: 3196，占评论总数的72.32%    负面评价: 1223, 占总数的27.68%\n"
     ]
    }
   ],
   "source": [
    "#查看评论类型占比\n",
    "data = pd.read_csv(r'pinglun.csv', encoding='gbk')\n",
    "positive = len(data['table'][data['table'] == 1])\n",
    "negative = len(data['table'][data['table'] == 0])\n",
    "total = positive + negative\n",
    "sns.distplot(data['star'], bins=5, kde=False, norm_hist=True)\n",
    "plt.title('comments types view')\n",
    "plt.show()\n",
    "print(\"正面评价: %d，占评论总数的%.2f%%    负面评价: %d, 占总数的%.2f%%\" %(positive, (positive/total*100), negative, (negative/total*100)))"
   ]
  },
  {
   "cell_type": "code",
   "execution_count": 3,
   "id": "3bbe3118",
   "metadata": {},
   "outputs": [],
   "source": [
    "# 中文分词\n",
    "def split_text(chinese_text, cut_all=False):\n",
    "\n",
    "    text_generater = jieba.cut(chinese_text, cut_all=cut_all)\n",
    "    result = ' '.join(text_generater)\n",
    "    return result\n",
    "\n",
    "# 去除中文停用词\n",
    "def drop_stop_words_1(st_path, chinese_text):\n",
    "\n",
    "    with open(st_path, 'r') as f:\n",
    "        sw = f.read()\n",
    "        sw_list = sw.splitlines()\n",
    "    word_list = chinese_text.split()\n",
    "\n",
    "    for stop_word in sw_list:\n",
    "        word_list = [word for word in word_list if word != stop_word]\n",
    "    return word_list\n",
    "\n",
    "#除去非中文的特殊符号\n",
    "def drop_non_chinese(text):\n",
    "    pattern = re.compile(r'[^\\u4e00-\\u9fa5]')\n",
    "    chinese_text = re.sub(pattern, '', text)\n",
    "    return chinese_text"
   ]
  },
  {
   "cell_type": "code",
   "execution_count": 4,
   "id": "28aa4b0e",
   "metadata": {},
   "outputs": [],
   "source": [
    "X = data['comment']\n",
    "Y = data['table']"
   ]
  },
  {
   "cell_type": "code",
   "execution_count": 5,
   "id": "5307f1e1",
   "metadata": {},
   "outputs": [
    {
     "name": "stderr",
     "output_type": "stream",
     "text": [
      "Building prefix dict from the default dictionary ...\n",
      "Loading model from cache C:\\Users\\lenovo\\AppData\\Local\\Temp\\jieba.cache\n",
      "Loading model cost 0.513 seconds.\n",
      "Prefix dict has been built successfully.\n"
     ]
    }
   ],
   "source": [
    "X = X.apply(lambda x: drop_non_chinese(str(x)))\n",
    "X = X.apply(lambda x: split_text(x))\n",
    "X = X.apply(lambda x: drop_stop_words_1(r'stop_words.txt', x))"
   ]
  },
  {
   "cell_type": "code",
   "execution_count": 6,
   "id": "16980691",
   "metadata": {},
   "outputs": [],
   "source": [
    "def train_Word2Vec_model(text, save_path):\n",
    "    model = gensim.models.Word2Vec(text, min_count=1, window=5)\n",
    "    model.save(save_path)\n",
    "    return model\n",
    "\n",
    "def word_to_dict(X, word_vec_model):\n",
    "    total_set = set()\n",
    "    word_to_vec = dict()\n",
    "    word_to_index = dict()\n",
    "\n",
    "    for x in X:\n",
    "        total_set = set.union(total_set, set(x))\n",
    "    index = 1\n",
    "    for i in total_set:\n",
    "        word_to_vec[i] = word_vec_model[i]\n",
    "        word_to_index[i] = index\n",
    "        index += 1\n",
    "\n",
    "    return word_to_vec, word_to_index"
   ]
  },
  {
   "cell_type": "code",
   "execution_count": 7,
   "id": "3638dc18",
   "metadata": {},
   "outputs": [],
   "source": [
    "# 训练Word2Vec词向量模型与构建映射\n",
    "word_vec_model = train_Word2Vec_model(X, r'word2vec.model')\n",
    "word_to_vec, word_to_index = word_to_dict(X, word_vec_model.wv)"
   ]
  },
  {
   "cell_type": "code",
   "execution_count": 8,
   "id": "f1f24158",
   "metadata": {},
   "outputs": [],
   "source": [
    "# 划分数据集\n",
    "X_train, X_test, y_train, y_test = train_test_split(np.array(X), np.array(Y), test_size=0.2, random_state=2)"
   ]
  },
  {
   "cell_type": "code",
   "execution_count": 9,
   "id": "c89db181",
   "metadata": {},
   "outputs": [],
   "source": [
    "def text_to_index(X, word_to_index, max_len=100):\n",
    "    m = X.shape[0]\n",
    "    X_indices = np.zeros((m, max_len))\n",
    "\n",
    "    for i in range(m):\n",
    "        j = 0\n",
    "        for word in X[i][:max_len]:\n",
    "            try:\n",
    "                X_indices[i, j] = word_to_index[word]\n",
    "                j += 1\n",
    "            except KeyError:\n",
    "                pass\n",
    "\n",
    "    return X_indices"
   ]
  },
  {
   "cell_type": "code",
   "execution_count": 10,
   "id": "4db75d3e",
   "metadata": {},
   "outputs": [],
   "source": [
    "# word_to_index\n",
    "# word_to_vec"
   ]
  },
  {
   "cell_type": "code",
   "execution_count": 11,
   "id": "0a1adb40",
   "metadata": {},
   "outputs": [],
   "source": [
    "# 构建Embedding层\n",
    "def pretrained_embedding_layer(word_to_vec, word_to_index):\n",
    "    \n",
    "    vocab_len = len(word_to_index) + 1 \n",
    "    emb_dim = word_to_vec['电影'].shape[0]\n",
    "\n",
    "    emb_matrix = np.zeros((vocab_len, emb_dim))\n",
    "    for word, index in word_to_index.items():\n",
    "        emb_matrix[index, :] = word_to_vec[word]\n",
    "\n",
    "    weight = torch.from_numpy(emb_matrix)\n",
    "    embedding = nn.Embedding.from_pretrained(weight)\n",
    "    embedding.weight.requires_grad = True\n",
    "#     print(emb_matrix.shape)\n",
    "\n",
    "    return embedding"
   ]
  },
  {
   "cell_type": "code",
   "execution_count": 12,
   "id": "ffbe00a7",
   "metadata": {},
   "outputs": [],
   "source": [
    "# 构建LSTM模型框架\n",
    "class EmotionModel(nn.Module):\n",
    "    def __init__(self, word_to_vec, word_to_index, max_len, hidden_dim):\n",
    "        super(EmotionModel, self).__init__()\n",
    "        self.embedding_dim = word_to_vec['电影'].shape[0]\n",
    "        self.hidden_dim = hidden_dim\n",
    "        self.max_len = max_len\n",
    "\n",
    "        #网络层次\n",
    "        self.embedding = pretrained_embedding_layer(word_to_vec, word_to_index)\n",
    "        self.lstm1 = nn.LSTM(input_size=self.embedding_dim, hidden_size=self.hidden_dim, batch_first=True)\n",
    "        self.dropout1 = nn.Dropout(0.5)\n",
    "        self.lstm2 = nn.LSTM(hidden_dim, hidden_dim, batch_first=True)\n",
    "        self.dropout2 = nn.Dropout(0.5)\n",
    "        self.linear = nn.Linear(self.hidden_dim * self.max_len, 1)\n",
    "        self.sigmoid = nn.Sigmoid()\n",
    "\n",
    "    def forward(self, inputs):\n",
    "        embeds = self.embedding((inputs.long()))\n",
    "        lstm_out1, hidden = self.lstm1(embeds.view(-1, self.max_len, self.embedding_dim).float())\n",
    "        drop_out1 = self.dropout1(lstm_out1)\n",
    "        lstm_out2, hidden = self.lstm2(drop_out1.view(-1, self.max_len, self.hidden_dim).float())\n",
    "        drop_out2 = self.dropout2(lstm_out2)\n",
    "        fc_out1 = self.linear(drop_out2.contiguous().view(-1, self.max_len * self.hidden_dim))\n",
    "        fc_out2 = self.sigmoid(fc_out1)\n",
    "        return fc_out2"
   ]
  },
  {
   "cell_type": "code",
   "execution_count": 50,
   "id": "63e6323d",
   "metadata": {},
   "outputs": [],
   "source": [
    "def data_loader(X_train, y_train, batch_size=None):\n",
    "    train_db = TensorDataset(torch.from_numpy(X_train).float(), torch.squeeze(torch.from_numpy(y_train)))\n",
    "    train_loader = DataLoader(train_db, batch_size=batch_size, shuffle=True)\n",
    "    return train_loader\n",
    "\n",
    "\n",
    "def train_model(X_train, y_train, X_test, y_test, word_to_vec, word_to_index, params_save_path,\n",
    "                max_len=100, batch_size=100, lr=0.002, epochs=20, hidden_dim=50):\n",
    "\n",
    "    X_train_indice = text_to_index(X_train, word_to_index, max_len=max_len)\n",
    "    train_loader = data_loader(X_train_indice, y_train, batch_size=batch_size)\n",
    "    model = EmotionModel(word_to_vec, word_to_index, max_len, hidden_dim)\n",
    "    device = \"cpu\"\n",
    "    model = model.to(device)\n",
    "    lost = nn.BCELoss()\n",
    "    \n",
    "    # 指定优化器\n",
    "    optimizer = torch.optim.Adam(model.parameters(), lr=lr)\n",
    "    m = len(X_train)\n",
    "    num_batches = m / batch_size\n",
    "    loss_list = []\n",
    "\n",
    "    for epoch in range(epochs):\n",
    "        epoch_loss = 0\n",
    "        for step, (batch_x, batch_y) in enumerate(train_loader):\n",
    "            output = model.forward(batch_x)\n",
    "            cost = lost(output.squeeze(), batch_y.float())\n",
    "\n",
    "            epoch_loss += cost.detach()\n",
    "            optimizer.zero_grad()\n",
    "            cost.backward()\n",
    "            optimizer.step()\n",
    "\n",
    "        epoch_loss /= num_batches\n",
    "        loss_list.append(epoch_loss)\n",
    "        print('loss after epoch %i : %f' % (epoch, float(epoch_loss)))\n",
    "\n",
    "    # 参数保存\n",
    "    torch.save(model.state_dict(), params_save_path)\n",
    "\n",
    "\n",
    "    # 绘制loss曲线\n",
    "    plt.plot(loss_list)\n",
    "    plt.xlabel('iterations')\n",
    "    plt.ylabel('loss')\n",
    "    plt.show()\n",
    "\n",
    "\n",
    "    model = model.eval()\n",
    "    # 训练集准确率\n",
    "    output_train = model(torch.from_numpy(X_train_indice).float())\n",
    "    pred_y_train = np.squeeze(np.round(output_train.data.numpy()).astype(int))\n",
    "    print('Train Accuracy: %.2f%%' % float(np.sum(y_train == pred_y_train) / m * 100))\n",
    "\n",
    "    # 测试集准确率\n",
    "    X_test_indice = text_to_index(X_test, word_to_index, max_len=max_len)\n",
    "    output_test = model(torch.from_numpy(X_test_indice).float())\n",
    "    pred_y_test = np.squeeze(np.round(output_test.data.numpy()).astype(int))\n",
    "    print('Test Accuracy: %.2f%%' % float(np.sum(y_test == pred_y_test) / len(X_test_indice) * 100))\n",
    "    return pred_y_test"
   ]
  },
  {
   "cell_type": "code",
   "execution_count": 51,
   "id": "718c4a35",
   "metadata": {},
   "outputs": [],
   "source": [
    "# 混淆矩阵\n",
    "def confuse_matrix(y, pred_y):\n",
    "    fp = np.sum((pred_y==1)&(y==0))\n",
    "    fn = np.sum((pred_y==0)&(y==1))\n",
    "    tp = np.sum((pred_y==1)&(y==1))\n",
    "    tn = np.sum((pred_y==0)&(y==0))\n",
    "    confuse_matrix = np.array([[tp, fp], [fn, tn]])\n",
    "    precision = tp / (fp+tp)\n",
    "    recall = tp / (tp + fn)\n",
    "    F1 = 2 * (precision*recall) / (precision+recall)\n",
    "    print(confuse_matrix)\n",
    "    print('Precision = %.2f,   Recall = %.2f    F1 = %.2f' % (precision, recall, F1))"
   ]
  },
  {
   "cell_type": "code",
   "execution_count": 52,
   "id": "6630e3d2",
   "metadata": {},
   "outputs": [
    {
     "name": "stdout",
     "output_type": "stream",
     "text": [
      "loss after epoch 0 : 0.693659\n",
      "loss after epoch 1 : 0.671559\n",
      "loss after epoch 2 : 0.685424\n",
      "loss after epoch 3 : 0.644918\n",
      "loss after epoch 4 : 0.485725\n",
      "loss after epoch 5 : 0.241392\n",
      "loss after epoch 6 : 0.131246\n",
      "loss after epoch 7 : 0.079379\n",
      "loss after epoch 8 : 0.053401\n",
      "loss after epoch 9 : 0.027530\n",
      "loss after epoch 10 : 0.022215\n",
      "loss after epoch 11 : 0.032243\n",
      "loss after epoch 12 : 0.026992\n",
      "loss after epoch 13 : 0.028017\n",
      "loss after epoch 14 : 0.016311\n",
      "loss after epoch 15 : 0.015418\n",
      "loss after epoch 16 : 0.015102\n",
      "loss after epoch 17 : 0.012831\n",
      "loss after epoch 18 : 0.012984\n",
      "loss after epoch 19 : 0.010965\n"
     ]
    },
    {
     "data": {
      "image/png": "[encoded data removed]",
      "text/plain": [
       "<Figure size 432x288 with 1 Axes>"
      ]
     },
     "metadata": {
      "needs_background": "light"
     },
     "output_type": "display_data"
    },
    {
     "name": "stdout",
     "output_type": "stream",
     "text": [
      "Train Accuracy: 99.55%\n",
      "Test Accuracy: 73.76%\n",
      "[[522 115]\n",
      " [117 130]]\n",
      "Precision = 0.82,   Recall = 0.82    F1 = 0.82\n"
     ]
    }
   ],
   "source": [
    "# 训练模型\n",
    "max_len = 50\n",
    "batch_size = 500\n",
    "hidden_dim = 100\n",
    "params_save_path = r'emo_parms.pkl'\n",
    "pred_y_test = train_model(X_train, y_train, X_test, y_test, word_to_vec, word_to_index, params_save_path,\n",
    "                    max_len=max_len, batch_size=batch_size, hidden_dim=hidden_dim, lr=0.002, epochs=20) \n",
    "confuse_matrix(y_test, pred_y_test)"
   ]
  },
  {
   "cell_type": "code",
   "execution_count": 18,
   "id": "8c5793e9",
   "metadata": {},
   "outputs": [
    {
     "data": {
      "text/plain": [
       "EmotionModel(\n",
       "  (embedding): Embedding(20195, 100)\n",
       "  (lstm1): LSTM(100, 100, batch_first=True)\n",
       "  (dropout1): Dropout(p=0.5, inplace=False)\n",
       "  (lstm2): LSTM(100, 100, batch_first=True)\n",
       "  (dropout2): Dropout(p=0.5, inplace=False)\n",
       "  (linear): Linear(in_features=5000, out_features=1, bias=True)\n",
       "  (sigmoid): Sigmoid()\n",
       ")"
      ]
     },
     "execution_count": 18,
     "metadata": {},
     "output_type": "execute_result"
    }
   ],
   "source": [
    "model = EmotionModel(word_to_vec, word_to_index, max_len, hidden_dim)\n",
    "model.load_state_dict(torch.load(params_save_path))\n",
    "model.eval()"
   ]
  },
  {
   "cell_type": "code",
   "execution_count": 48,
   "id": "949ca11e",
   "metadata": {},
   "outputs": [],
   "source": [
    "def predict(str):\n",
    "    sentence = str\n",
    "    sentence = drop_stop_words_1(r'stop_words.txt',split_text(drop_non_chinese(sentence)))\n",
    "#     print(sentence)\n",
    "    pre_sen = []\n",
    "    pre_sen.append(sentence)\n",
    "    pre_sen = np.array(pre_sen)\n",
    "#     print(pre_sen)\n",
    "    test_review_indice = text_to_index(pre_sen, word_to_index, max_len=max_len)\n",
    "    output = model(torch.from_numpy(test_review_indice).float())\n",
    "#     print(output)\n",
    "    pred = np.squeeze(np.round(output.data.numpy()).astype(int))\n",
    "#     print(pred)\n",
    "    print(\"----------------------\")\n",
    "    print('评论内容：', str)\n",
    "    print('预测评分：', ('4星以下' if output.item() <= 0.5 else '4星及以上'))\n",
    "    print('预测情感：', ('正向' if pred == 1 else '负向'))"
   ]
  },
  {
   "cell_type": "code",
   "execution_count": 49,
   "id": "c76f621f",
   "metadata": {},
   "outputs": [
    {
     "name": "stdout",
     "output_type": "stream",
     "text": [
      "----------------------\n",
      "评论内容： 虽然有巨石，实在太扯漏洞多得像筛子\n",
      "预测评分： 4星以下\n",
      "预测情感： 负向\n"
     ]
    }
   ],
   "source": [
    "sentence1 = '虽然有巨石，实在太扯漏洞多得像筛子'\n",
    "sentence2 = 'AWOSOME！看得我肾上腺激素爆发啊！！！'\n",
    "sentence3 = 'FAST系列最喜欢的一季'\n",
    "sentence4 = '今年最佳动作电影诞生'\n",
    "sentence5 = '不爱鸡肉男不爱香车，到处找剧情bug，这电影看得累啊。'\n",
    "sentence6 = '不出意外，这就是我的年度华语最佳了，无懈可击那种。'\n",
    "sentence7 = '主题浮于表面…表达做作且矫情…警察局的戏份是把观众当傻逼吗…为什么要大早上来看一部青春伤痛文学式的狗血电影啊…四字dd演的倒还行'\n",
    "predict(sentence1)"
   ]
  },
  {
   "cell_type": "code",
   "execution_count": null,
   "id": "198ad13a",
   "metadata": {},
   "outputs": [],
   "source": []
  }
 ],
 "metadata": {
  "kernelspec": {
   "display_name": "Python 3 (ipykernel)",
   "language": "python",
   "name": "python3"
  },
  "language_info": {
   "codemirror_mode": {
    "name": "ipython",
    "version": 3
   },
   "file_extension": ".py",
   "mimetype": "text/x-python",
   "name": "python",
   "nbconvert_exporter": "python",
   "pygments_lexer": "ipython3",
   "version": "3.9.7"
  }
 },
 "nbformat": 4,
 "nbformat_minor": 5
}
