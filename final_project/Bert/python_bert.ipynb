{
 "cells": [
  {
   "cell_type": "code",
   "execution_count": 16,
   "id": "e2873b46",
   "metadata": {},
   "outputs": [
    {
     "name": "stdout",
     "output_type": "stream",
     "text": [
      "      star                                            comment  lable\n",
      "0        3                              賽車大場面夠炸，劇情不行，突然來了個弟弟。      0\n",
      "1        4  8.1/10 除去被预告泄露过多的动作场面导致正片多少欠缺新意, 多线并行的叙事法造成些许混...      1\n",
      "2        1  电影的艺术手法不是不允许夸张，但你实在不该骗我十二点看科幻片。\\r\\n看完我只想加入这个爱意...      0\n",
      "3        2                                           我看的是万磁王？      0\n",
      "4        1  看速激系列综合症：范迪塞尔巨石强森放一起分得清、分开了就不记得另一个长相，至今仍分不清See...      0\n",
      "...    ...                                                ...    ...\n",
      "4414     4                          新奇，喜欢。一群逗逼，凑活着居然拯救了银河系。哈哈      1\n",
      "4415     4                                  喜欢喜欢喜欢。最后还是乖乖等彩蛋啊      1\n",
      "4416     3                     看了黑贾翻译的评论才去的，一开始就马上进入六级听力考试状态。      0\n",
      "4417     3                                再也不去影院看3d了，眼镜压得鼻子疼。      0\n",
      "4418     5  过去没看（不看）这类电影的，80年代音乐?非常好听和怀旧。\\r\\n2023年5??借《银河3...      1\n",
      "\n",
      "[4419 rows x 3 columns]\n"
     ]
    }
   ],
   "source": [
    "#看看数据集长什么样\n",
    "import pandas as pd\n",
    "\n",
    "df = pd.read_csv('pinglun.csv')\n",
    "\n",
    "print(df)"
   ]
  },
  {
   "cell_type": "code",
   "execution_count": 17,
   "id": "cc9bbd19",
   "metadata": {},
   "outputs": [
    {
     "data": {
      "text/html": [
       "<div>\n",
       "<style scoped>\n",
       "    .dataframe tbody tr th:only-of-type {\n",
       "        vertical-align: middle;\n",
       "    }\n",
       "\n",
       "    .dataframe tbody tr th {\n",
       "        vertical-align: top;\n",
       "    }\n",
       "\n",
       "    .dataframe thead th {\n",
       "        text-align: right;\n",
       "    }\n",
       "</style>\n",
       "<table border=\"1\" class=\"dataframe\">\n",
       "  <thead>\n",
       "    <tr style=\"text-align: right;\">\n",
       "      <th></th>\n",
       "      <th>star</th>\n",
       "      <th>comment</th>\n",
       "      <th>lable</th>\n",
       "    </tr>\n",
       "  </thead>\n",
       "  <tbody>\n",
       "    <tr>\n",
       "      <th>0</th>\n",
       "      <td>3</td>\n",
       "      <td>賽車大場面夠炸，劇情不行，突然來了個弟弟。</td>\n",
       "      <td>0</td>\n",
       "    </tr>\n",
       "    <tr>\n",
       "      <th>1</th>\n",
       "      <td>4</td>\n",
       "      <td>8.1/10 除去被预告泄露过多的动作场面导致正片多少欠缺新意, 多线并行的叙事法造成些许混...</td>\n",
       "      <td>1</td>\n",
       "    </tr>\n",
       "    <tr>\n",
       "      <th>2</th>\n",
       "      <td>1</td>\n",
       "      <td>电影的艺术手法不是不允许夸张，但你实在不该骗我十二点看科幻片。\\r\\n看完我只想加入这个爱意...</td>\n",
       "      <td>0</td>\n",
       "    </tr>\n",
       "    <tr>\n",
       "      <th>3</th>\n",
       "      <td>2</td>\n",
       "      <td>我看的是万磁王？</td>\n",
       "      <td>0</td>\n",
       "    </tr>\n",
       "    <tr>\n",
       "      <th>4</th>\n",
       "      <td>1</td>\n",
       "      <td>看速激系列综合症：范迪塞尔巨石强森放一起分得清、分开了就不记得另一个长相，至今仍分不清See...</td>\n",
       "      <td>0</td>\n",
       "    </tr>\n",
       "    <tr>\n",
       "      <th>5</th>\n",
       "      <td>3</td>\n",
       "      <td>这么老的IP，都拍了二十年了，你们咋不上天呢？（导演：好的）</td>\n",
       "      <td>0</td>\n",
       "    </tr>\n",
       "    <tr>\n",
       "      <th>6</th>\n",
       "      <td>3</td>\n",
       "      <td>在韩国看了全球首映，看完最想说：“太空行走，太他妈扯淡了！” 还有塞纳的屁股真翘！</td>\n",
       "      <td>0</td>\n",
       "    </tr>\n",
       "    <tr>\n",
       "      <th>7</th>\n",
       "      <td>1</td>\n",
       "      <td>调度乱得一塌糊涂。大量闪回似乎是为贴近该系列最初的街头飙车，但最终的效果像是山寨公司拍出来的...</td>\n",
       "      <td>0</td>\n",
       "    </tr>\n",
       "    <tr>\n",
       "      <th>8</th>\n",
       "      <td>3</td>\n",
       "      <td>系列的优点就是格局小，没事赛车／把妹，出事就只能跑路。现在动不动就要拯救世界。</td>\n",
       "      <td>0</td>\n",
       "    </tr>\n",
       "    <tr>\n",
       "      <th>9</th>\n",
       "      <td>4</td>\n",
       "      <td>就是很好奇那俩哥们怎么从太空回来的</td>\n",
       "      <td>1</td>\n",
       "    </tr>\n",
       "  </tbody>\n",
       "</table>\n",
       "</div>"
      ],
      "text/plain": [
       "   star                                            comment  lable\n",
       "0     3                              賽車大場面夠炸，劇情不行，突然來了個弟弟。      0\n",
       "1     4  8.1/10 除去被预告泄露过多的动作场面导致正片多少欠缺新意, 多线并行的叙事法造成些许混...      1\n",
       "2     1  电影的艺术手法不是不允许夸张，但你实在不该骗我十二点看科幻片。\\r\\n看完我只想加入这个爱意...      0\n",
       "3     2                                           我看的是万磁王？      0\n",
       "4     1  看速激系列综合症：范迪塞尔巨石强森放一起分得清、分开了就不记得另一个长相，至今仍分不清See...      0\n",
       "5     3                     这么老的IP，都拍了二十年了，你们咋不上天呢？（导演：好的）      0\n",
       "6     3          在韩国看了全球首映，看完最想说：“太空行走，太他妈扯淡了！” 还有塞纳的屁股真翘！      0\n",
       "7     1  调度乱得一塌糊涂。大量闪回似乎是为贴近该系列最初的街头飙车，但最终的效果像是山寨公司拍出来的...      0\n",
       "8     3            系列的优点就是格局小，没事赛车／把妹，出事就只能跑路。现在动不动就要拯救世界。      0\n",
       "9     4                                  就是很好奇那俩哥们怎么从太空回来的      1"
      ]
     },
     "execution_count": 17,
     "metadata": {},
     "output_type": "execute_result"
    }
   ],
   "source": [
    "#上面的效果不好，用下面这种方式看\n",
    "raw_data=pd.read_csv('pinglun.csv')\n",
    "raw_data.head(10)"
   ]
  },
  {
   "cell_type": "code",
   "execution_count": 18,
   "id": "be6b8910",
   "metadata": {},
   "outputs": [],
   "source": [
    "#因为有label了，所以star其实没有用了，就把他删去，然后存入一个新的csv文件\n",
    "f=df.drop(['star'],axis=1)\n",
    "df.to_csv(\"pinglun_new.csv\",index=False,encoding=\"utf-8\")"
   ]
  },
  {
   "cell_type": "code",
   "execution_count": 19,
   "id": "f8ddc556",
   "metadata": {},
   "outputs": [
    {
     "data": {
      "text/html": [
       "<div>\n",
       "<style scoped>\n",
       "    .dataframe tbody tr th:only-of-type {\n",
       "        vertical-align: middle;\n",
       "    }\n",
       "\n",
       "    .dataframe tbody tr th {\n",
       "        vertical-align: top;\n",
       "    }\n",
       "\n",
       "    .dataframe thead th {\n",
       "        text-align: right;\n",
       "    }\n",
       "</style>\n",
       "<table border=\"1\" class=\"dataframe\">\n",
       "  <thead>\n",
       "    <tr style=\"text-align: right;\">\n",
       "      <th></th>\n",
       "      <th>star</th>\n",
       "      <th>comment</th>\n",
       "      <th>lable</th>\n",
       "    </tr>\n",
       "  </thead>\n",
       "  <tbody>\n",
       "    <tr>\n",
       "      <th>0</th>\n",
       "      <td>3</td>\n",
       "      <td>賽車大場面夠炸，劇情不行，突然來了個弟弟。</td>\n",
       "      <td>0</td>\n",
       "    </tr>\n",
       "    <tr>\n",
       "      <th>1</th>\n",
       "      <td>4</td>\n",
       "      <td>8.1/10 除去被预告泄露过多的动作场面导致正片多少欠缺新意, 多线并行的叙事法造成些许混...</td>\n",
       "      <td>1</td>\n",
       "    </tr>\n",
       "    <tr>\n",
       "      <th>2</th>\n",
       "      <td>1</td>\n",
       "      <td>电影的艺术手法不是不允许夸张，但你实在不该骗我十二点看科幻片。\\r\\n看完我只想加入这个爱意...</td>\n",
       "      <td>0</td>\n",
       "    </tr>\n",
       "    <tr>\n",
       "      <th>3</th>\n",
       "      <td>2</td>\n",
       "      <td>我看的是万磁王？</td>\n",
       "      <td>0</td>\n",
       "    </tr>\n",
       "    <tr>\n",
       "      <th>4</th>\n",
       "      <td>1</td>\n",
       "      <td>看速激系列综合症：范迪塞尔巨石强森放一起分得清、分开了就不记得另一个长相，至今仍分不清See...</td>\n",
       "      <td>0</td>\n",
       "    </tr>\n",
       "    <tr>\n",
       "      <th>5</th>\n",
       "      <td>3</td>\n",
       "      <td>这么老的IP，都拍了二十年了，你们咋不上天呢？（导演：好的）</td>\n",
       "      <td>0</td>\n",
       "    </tr>\n",
       "    <tr>\n",
       "      <th>6</th>\n",
       "      <td>3</td>\n",
       "      <td>在韩国看了全球首映，看完最想说：“太空行走，太他妈扯淡了！” 还有塞纳的屁股真翘！</td>\n",
       "      <td>0</td>\n",
       "    </tr>\n",
       "    <tr>\n",
       "      <th>7</th>\n",
       "      <td>1</td>\n",
       "      <td>调度乱得一塌糊涂。大量闪回似乎是为贴近该系列最初的街头飙车，但最终的效果像是山寨公司拍出来的...</td>\n",
       "      <td>0</td>\n",
       "    </tr>\n",
       "    <tr>\n",
       "      <th>8</th>\n",
       "      <td>3</td>\n",
       "      <td>系列的优点就是格局小，没事赛车／把妹，出事就只能跑路。现在动不动就要拯救世界。</td>\n",
       "      <td>0</td>\n",
       "    </tr>\n",
       "    <tr>\n",
       "      <th>9</th>\n",
       "      <td>4</td>\n",
       "      <td>就是很好奇那俩哥们怎么从太空回来的</td>\n",
       "      <td>1</td>\n",
       "    </tr>\n",
       "  </tbody>\n",
       "</table>\n",
       "</div>"
      ],
      "text/plain": [
       "   star                                            comment  lable\n",
       "0     3                              賽車大場面夠炸，劇情不行，突然來了個弟弟。      0\n",
       "1     4  8.1/10 除去被预告泄露过多的动作场面导致正片多少欠缺新意, 多线并行的叙事法造成些许混...      1\n",
       "2     1  电影的艺术手法不是不允许夸张，但你实在不该骗我十二点看科幻片。\\r\\n看完我只想加入这个爱意...      0\n",
       "3     2                                           我看的是万磁王？      0\n",
       "4     1  看速激系列综合症：范迪塞尔巨石强森放一起分得清、分开了就不记得另一个长相，至今仍分不清See...      0\n",
       "5     3                     这么老的IP，都拍了二十年了，你们咋不上天呢？（导演：好的）      0\n",
       "6     3          在韩国看了全球首映，看完最想说：“太空行走，太他妈扯淡了！” 还有塞纳的屁股真翘！      0\n",
       "7     1  调度乱得一塌糊涂。大量闪回似乎是为贴近该系列最初的街头飙车，但最终的效果像是山寨公司拍出来的...      0\n",
       "8     3            系列的优点就是格局小，没事赛车／把妹，出事就只能跑路。现在动不动就要拯救世界。      0\n",
       "9     4                                  就是很好奇那俩哥们怎么从太空回来的      1"
      ]
     },
     "execution_count": 19,
     "metadata": {},
     "output_type": "execute_result"
    }
   ],
   "source": [
    "raw_data=pd.read_csv('pinglun_new.csv')\n",
    "raw_data.head(10)"
   ]
  },
  {
   "cell_type": "code",
   "execution_count": 20,
   "id": "fb87ba61",
   "metadata": {},
   "outputs": [
    {
     "name": "stdout",
     "output_type": "stream",
     "text": [
      "去重之前： 4419\n",
      "去重之后： 4292\n"
     ]
    },
    {
     "data": {
      "text/plain": [
       "(4292, 3)"
      ]
     },
     "execution_count": 20,
     "metadata": {},
     "output_type": "execute_result"
    }
   ],
   "source": [
    "df=pd.read_csv('pinglun_new.csv')\n",
    "#去重，把重复的去掉\n",
    "print('去重之前：',df.shape[0])\n",
    "df=df.drop_duplicates()\n",
    "print('去重之后：',df.shape[0])\n",
    "df.shape"
   ]
  },
  {
   "cell_type": "code",
   "execution_count": 64,
   "id": "afc28459",
   "metadata": {},
   "outputs": [
    {
     "name": "stdout",
     "output_type": "stream",
     "text": [
      "数量： 4292\n",
      "正样本: 3108\n",
      "负样本: 1184\n"
     ]
    }
   ],
   "source": [
    "print('数量： %d' %df.shape[0])\n",
    "pos = sum(df['lable']== 1)\n",
    "neg = sum(df['lable']== 0)\n",
    "positive_labels = [[0,1] for _ in range(pos)]\n",
    "negative_labels = [[0,1] for _ in range(neg)]\n",
    "print('正样本:',pos)\n",
    "print('负样本:',neg)"
   ]
  },
  {
   "cell_type": "code",
   "execution_count": 24,
   "id": "3dc7d402",
   "metadata": {},
   "outputs": [
    {
     "data": {
      "image/png": "[encoded data removed]",
      "text/plain": [
       "<Figure size 432x288 with 1 Axes>"
      ]
     },
     "metadata": {
      "needs_background": "light"
     },
     "output_type": "display_data"
    }
   ],
   "source": [
    "import matplotlib.pyplot as plt\n",
    "num_tokens = [ len(str(tokens)) for tokens in df['comment'] ]\n",
    "\n",
    "plt.hist(num_tokens, bins=50)\n",
    "plt.ylabel('number of tokens')\n",
    "plt.xlabel('length of tokens')\n",
    "plt.title('Distribution of tokens length')\n",
    "plt.show()"
   ]
  },
  {
   "cell_type": "code",
   "execution_count": 71,
   "id": "4c548efd",
   "metadata": {},
   "outputs": [
    {
     "data": {
      "image/png": "[encoded data removed]",
      "text/plain": [
       "<Figure size 432x288 with 1 Axes>"
      ]
     },
     "metadata": {
      "needs_background": "light"
     },
     "output_type": "display_data"
    }
   ],
   "source": [
    "# 统计每个星级的数量\n",
    "star_counts = df['star'].value_counts()\n",
    "\n",
    "# 绘制柱状图\n",
    "plt.bar(star_counts.index, star_counts.values)\n",
    "\n",
    "# 添加标题和标签\n",
    "plt.title('Star Distribution')\n",
    "plt.xlabel('Star Rating')\n",
    "plt.ylabel('Number of Data')\n",
    "\n",
    "# 显示图形\n",
    "plt.show()"
   ]
  },
  {
   "cell_type": "code",
   "execution_count": 25,
   "id": "d1ba2ff9",
   "metadata": {},
   "outputs": [],
   "source": [
    "import pandas as pd\n",
    "import codecs, gc\n",
    "import numpy as np\n",
    "from sklearn.model_selection import KFold\n",
    "from keras_bert import load_trained_model_from_checkpoint, Tokenizer\n",
    "from keras.metrics import top_k_categorical_accuracy\n",
    "from keras.layers import *\n",
    "from keras.callbacks import *\n",
    "from keras.models import Model\n",
    "import keras.backend as K\n",
    "from keras.optimizers import adam_v2\n",
    "from tensorflow.keras.utils import to_categorical\n",
    "from sklearn import metrics\n",
    "# 读取训练集和测试集\n",
    "from sklearn.model_selection import train_test_split"
   ]
  },
  {
   "cell_type": "code",
   "execution_count": 26,
   "id": "050abb36",
   "metadata": {},
   "outputs": [],
   "source": [
    "# 参数配置\n",
    "maxlen      = 40   # 设置序列长度为40，要保证序列长度不超过512\n",
    "Batch_size  = 16    #批量运行的个数\n",
    "Epoch       = 2     #迭代次数\n"
   ]
  },
  {
   "cell_type": "code",
   "execution_count": 49,
   "id": "4432ad5a",
   "metadata": {},
   "outputs": [],
   "source": [
    "def get_train_test_data():\n",
    "    train_df = pd.read_csv(r'pinglun_new.csv' ).astype(str)\n",
    "     \n",
    "    # 训练数据、测试数据和标签转化为模型输入格式\n",
    "    DATA_LIST = []\n",
    "    for data_row in train_df.iloc[:].itertuples():\n",
    "        DATA_LIST.append((data_row.comment, to_categorical(data_row.lable, 2)))\n",
    "    DATA_LIST = np.array(DATA_LIST)\n",
    "\n",
    "    data = DATA_LIST\n",
    "\n",
    "    X_train,X_valid = train_test_split(data,test_size=0.2,random_state = 0)\n",
    "    return X_train,X_valid \n"
   ]
  },
  {
   "cell_type": "code",
   "execution_count": 50,
   "id": "c2c943bd",
   "metadata": {},
   "outputs": [],
   "source": [
    "# 预训练好的模型 bert base\n",
    "config_path = 'bert_config.json'\n",
    "checkpoint_path = 'bert_model.ckpt'\n",
    "dict_path = 'vocab.txt'"
   ]
  },
  {
   "cell_type": "code",
   "execution_count": 51,
   "id": "436fb601",
   "metadata": {},
   "outputs": [],
   "source": [
    "def get_token_dict():\n",
    "    \"\"\"\n",
    "    # 将词表中的字编号转换为字典\n",
    "    :return: 返回自编码字典\n",
    "    \"\"\"\n",
    "    token_dict = {}\n",
    "    with codecs.open(dict_path, 'r', 'utf8') as reader:\n",
    "        for line in reader:\n",
    "            token = line.strip()\n",
    "            token_dict[token] = len(token_dict)\n",
    "    return token_dict"
   ]
  },
  {
   "cell_type": "code",
   "execution_count": 52,
   "id": "04c9e37b",
   "metadata": {},
   "outputs": [],
   "source": [
    "# 重写tokenizer\n",
    "class OurTokenizer(Tokenizer):\n",
    "    def _tokenize(self, text):\n",
    "        R = []\n",
    "        for c in text:\n",
    "            if c in self._token_dict:\n",
    "                R.append(c)\n",
    "            elif self._is_space(c):\n",
    "                R.append('[unused1]')  # 用[unused1]来表示空格类字符\n",
    "            else:\n",
    "                R.append('[UNK]')  # 不在列表的字符用[UNK]表示   UNK是unknown的意思\n",
    "        return R\n",
    "    "
   ]
  },
  {
   "cell_type": "code",
   "execution_count": 53,
   "id": "f0033cf8",
   "metadata": {},
   "outputs": [],
   "source": [
    "# 获取新的tokenizer\n",
    "tokenizer = OurTokenizer(get_token_dict())"
   ]
  },
  {
   "cell_type": "code",
   "execution_count": 54,
   "id": "ce62aaa5",
   "metadata": {},
   "outputs": [],
   "source": [
    "def seq_padding(X, padding=0):\n",
    "    \"\"\"\n",
    "    :param X: 文本列表\n",
    "    :param padding: 填充为0\n",
    "    :return: 让每条文本的长度相同，用0填充\n",
    "    \"\"\"\n",
    "    L = [len(x) for x in X]\n",
    "    ML = max(L)\n",
    "    return np.array([ np.concatenate([x, [padding] * (ML - len(x))]) if len(x) < ML else x for x in X])"
   ]
  },
  {
   "cell_type": "code",
   "execution_count": 55,
   "id": "33fe3984",
   "metadata": {},
   "outputs": [],
   "source": [
    "class data_generator:\n",
    "   \n",
    "    def __init__(self, data, batch_size=Batch_size, shuffle=True):\n",
    "        \"\"\"\n",
    "        :param data: 训练的文本列表\n",
    "        :param batch_size:  每次训练的个数\n",
    "        :param shuffle: 文本是否打乱\n",
    "        \"\"\"\n",
    "        self.data = data\n",
    "        self.batch_size = batch_size\n",
    "        self.shuffle = shuffle\n",
    "        self.steps = len(self.data) // self.batch_size\n",
    "        if len(self.data) % self.batch_size != 0:\n",
    "            self.steps += 1\n",
    "\n",
    "    def __len__(self):\n",
    "        return self.steps\n",
    "\n",
    "    def __iter__(self):\n",
    "        while True:\n",
    "            idxs = list(range(len(self.data)))\n",
    "\n",
    "            if self.shuffle:\n",
    "                np.random.shuffle(idxs)\n",
    "\n",
    "            X1, X2, Y = [], [], []\n",
    "            for i in idxs:\n",
    "                d = self.data[i]\n",
    "                text = d[0][:maxlen]\n",
    "                x1, x2 = tokenizer.encode(first=text)\n",
    "                y = d[1]\n",
    "                X1.append(x1)\n",
    "                X2.append(x2)\n",
    "                Y.append([y])\n",
    "                if len(X1) == self.batch_size or i == idxs[-1]:\n",
    "                    X1 = seq_padding(X1)\n",
    "                    X2 = seq_padding(X2)\n",
    "                    Y = seq_padding(Y)\n",
    "                    yield [X1, X2], Y[:, 0, :]\n",
    "                    [X1, X2, Y] = [], [], []\n",
    "             "
   ]
  },
  {
   "cell_type": "code",
   "execution_count": 56,
   "id": "1514ee39",
   "metadata": {},
   "outputs": [],
   "source": [
    "# bert模型设置\n",
    "def build_bert(nclass):\n",
    "    \"\"\"\n",
    "    :param nclass: 文本分类种类\n",
    "    :return: 构建的bert模型\n",
    "    \"\"\"\n",
    "    bert_model = load_trained_model_from_checkpoint(config_path, checkpoint_path, seq_len=None)  # 加载预训练模型\n",
    "\n",
    "    for l in bert_model.layers:\n",
    "        l.trainable = True #True表示在训练期间模型层的权重会更新\n",
    "    #构建模型\n",
    "    x1_in = Input(shape=(None,))#初始化bert输入层的tensor\n",
    "    x2_in = Input(shape=(None,))\n",
    "\n",
    "    x = bert_model([x1_in, x2_in])\n",
    "    x = Lambda(lambda x: x[:, 0])(x)  # 取出[CLS]对应的向量用来做分类\n",
    "    p = Dense(nclass, activation='softmax')(x)\n",
    "\n",
    "    model = Model([x1_in, x2_in], p)\n",
    "    model.compile(loss='categorical_crossentropy',\n",
    "                  optimizer=adam_v2.Adam(1e-5),  # 用足够小的学习率\n",
    "                  metrics=['accuracy'])\n",
    "    print(model.summary())\n",
    "    return model\n"
   ]
  },
  {
   "cell_type": "code",
   "execution_count": 57,
   "id": "c697a781",
   "metadata": {},
   "outputs": [],
   "source": [
    "def run_kb():\n",
    "    \"\"\"\n",
    "    训练模型\n",
    "    :return: 验证预测集，测试预测集，训练好的模型\n",
    "    \"\"\"\n",
    "    # 搭建模型参数\n",
    "    print('正在加载模型，请耐心等待....')\n",
    "    model = build_bert(2)  # 二分类模型\n",
    "    print('模型加载成功，开始训练....')\n",
    "    checkpoint = ModelCheckpoint(r'use_bert\\bert_dump1.hdf5', monitor='val_acc', verbose=2,\n",
    "                                 save_best_only=True, mode='max', save_weights_only=True)  # 保存最好的模型\n",
    "    # 获取数据并文本序列化\n",
    "    X_train, X_valid = get_train_test_data()\n",
    "    train_D = data_generator(X_train, shuffle=True)\n",
    "    valid_D = data_generator(X_valid, shuffle=True)\n",
    "  \n",
    "    # 模型训练\n",
    "    model.fit_generator(\n",
    "        train_D.__iter__(),\n",
    "        steps_per_epoch=len(train_D),\n",
    "        epochs=Epoch,\n",
    "        validation_data=valid_D.__iter__(),\n",
    "        validation_steps=len(valid_D),\n",
    "        callbacks=[checkpoint],\n",
    "        )\n",
    "    # 对验证集和测试集进行预测\n",
    "    valid_D = data_generator(X_valid, shuffle=False)\n",
    "    train_model_pred = model.predict_generator(valid_D.__iter__(), steps=len(valid_D), verbose=1)\n",
    "   \n",
    "    # 将预测概率值转化为类别值\n",
    "    train_pred = [np.argmax(x) for x in train_model_pred]\n",
    "    y_true = [np.argmax(x) for x in X_valid[:, 1]]\n",
    "\n",
    "    return train_pred,y_true,model"
   ]
  },
  {
   "cell_type": "code",
   "execution_count": 58,
   "id": "f2eda827",
   "metadata": {},
   "outputs": [],
   "source": [
    "def bk_metrics(y_true,y_pred,type ='metrics'):\n",
    "    \"\"\"\n",
    "    :param y_true: 真实值\n",
    "    :param y_pred: 预测值\n",
    "    :param type: 预测种类\n",
    "    :return: 评估指标\n",
    "    \"\"\"\n",
    "    print('准确率：',metrics.accuracy_score(y_true,y_pred))"
   ]
  },
  {
   "cell_type": "code",
   "execution_count": 59,
   "id": "1999186e",
   "metadata": {
    "scrolled": false
   },
   "outputs": [
    {
     "name": "stdout",
     "output_type": "stream",
     "text": [
      "正在加载模型，请耐心等待....\n",
      "Model: \"model_7\"\n",
      "__________________________________________________________________________________________________\n",
      " Layer (type)                   Output Shape         Param #     Connected to                     \n",
      "==================================================================================================\n",
      " input_3 (InputLayer)           [(None, None)]       0           []                               \n",
      "                                                                                                  \n",
      " input_4 (InputLayer)           [(None, None)]       0           []                               \n",
      "                                                                                                  \n",
      " model_6 (Functional)           (None, None, 768)    101677056   ['input_3[0][0]',                \n",
      "                                                                  'input_4[0][0]']                \n",
      "                                                                                                  \n",
      " lambda_1 (Lambda)              (None, 768)          0           ['model_6[0][0]']                \n",
      "                                                                                                  \n",
      " dense_1 (Dense)                (None, 2)            1538        ['lambda_1[0][0]']               \n",
      "                                                                                                  \n",
      "==================================================================================================\n",
      "Total params: 101,678,594\n",
      "Trainable params: 101,678,594\n",
      "Non-trainable params: 0\n",
      "__________________________________________________________________________________________________\n",
      "None\n",
      "模型加载成功，开始训练....\n"
     ]
    },
    {
     "name": "stderr",
     "output_type": "stream",
     "text": [
      "C:\\Users\\lenovo\\AppData\\Local\\Temp\\ipykernel_173648\\3604650180.py:8: VisibleDeprecationWarning: Creating an ndarray from ragged nested sequences (which is a list-or-tuple of lists-or-tuples-or ndarrays with different lengths or shapes) is deprecated. If you meant to do this, you must specify 'dtype=object' when creating the ndarray.\n",
      "  DATA_LIST = np.array(DATA_LIST)\n",
      "C:\\Users\\lenovo\\AppData\\Local\\Temp\\ipykernel_173648\\1070572619.py:18: UserWarning: `Model.fit_generator` is deprecated and will be removed in a future version. Please use `Model.fit`, which supports generators.\n",
      "  model.fit_generator(\n"
     ]
    },
    {
     "name": "stdout",
     "output_type": "stream",
     "text": [
      "Epoch 1/2\n",
      "221/221 [==============================] - ETA: 0s - loss: 0.5019 - accuracy: 0.7627WARNING:tensorflow:Can save best model only with val_acc available, skipping.\n",
      "221/221 [==============================] - 944s 4s/step - loss: 0.5019 - accuracy: 0.7627 - val_loss: 0.4434 - val_accuracy: 0.7986\n",
      "Epoch 2/2\n",
      "221/221 [==============================] - ETA: 0s - loss: 0.3168 - accuracy: 0.8693WARNING:tensorflow:Can save best model only with val_acc available, skipping.\n",
      "221/221 [==============================] - 737s 3s/step - loss: 0.3168 - accuracy: 0.8693 - val_loss: 0.4548 - val_accuracy: 0.7907\n"
     ]
    },
    {
     "name": "stderr",
     "output_type": "stream",
     "text": [
      "C:\\Users\\lenovo\\AppData\\Local\\Temp\\ipykernel_173648\\1070572619.py:28: UserWarning: `Model.predict_generator` is deprecated and will be removed in a future version. Please use `Model.predict`, which supports generators.\n",
      "  train_model_pred = model.predict_generator(valid_D.__iter__(), steps=len(valid_D), verbose=1)\n"
     ]
    },
    {
     "name": "stdout",
     "output_type": "stream",
     "text": [
      "56/56 [==============================] - 57s 941ms/step\n"
     ]
    }
   ],
   "source": [
    "if __name__ == '__main__':\n",
    "\n",
    "    # 训练和预测\n",
    "    train_pred, y_true,model = run_kb()\n",
    "\n",
    "     "
   ]
  },
  {
   "cell_type": "code",
   "execution_count": 60,
   "id": "d6e5ccb1",
   "metadata": {},
   "outputs": [
    {
     "name": "stdout",
     "output_type": "stream",
     "text": [
      "准确率： 0.7941176470588235\n"
     ]
    }
   ],
   "source": [
    "#对测试集的评估\n",
    "bk_metrics(train_pred,y_true,type =' train metrics')  "
   ]
  },
  {
   "cell_type": "code",
   "execution_count": 61,
   "id": "7cb50866",
   "metadata": {},
   "outputs": [],
   "source": [
    "# 将模型保存\n",
    "model_path =r'bertkeras_model.h5'\n",
    "model.save(model_path)"
   ]
  },
  {
   "cell_type": "code",
   "execution_count": 69,
   "id": "9315bf6d",
   "metadata": {},
   "outputs": [],
   "source": [
    "from keras_bert import get_custom_objects\n",
    "from keras.models import load_model\n",
    "def bert_predict(text):\n",
    "    # 模型加载与预测\n",
    "    str = text\n",
    "    custom_objects = get_custom_objects()\n",
    "    model = load_model(model_path, custom_objects=custom_objects)\n",
    "    DATA_text = []\n",
    "    DATA_text.append((text, to_categorical(0, 2)))\n",
    "    DATA_text = np.array(DATA_text)\n",
    "    text= data_generator(DATA_text, shuffle=False)\n",
    "    test_model_pred  = model.predict_generator(text.__iter__(), steps=len(text), verbose=1)\n",
    "#     print('预测结果',test_model_pred)\n",
    "    result = np.argmax(test_model_pred)\n",
    "    if result==1:\n",
    "        print(\"----------------------\")\n",
    "        print('评论内容：', str)\n",
    "        print('预测评分：4星及以上')\n",
    "        print('预测情感：正向')\n",
    "        print('此条评价的预测情感结果为：正向')\n",
    "    else:\n",
    "        print(\"----------------------\")\n",
    "        print('评论内容：', str)\n",
    "        print('预测评分：4星以下')\n",
    "        print('预测情感：负向')"
   ]
  },
  {
   "cell_type": "code",
   "execution_count": 70,
   "id": "a06f0ddb",
   "metadata": {},
   "outputs": [
    {
     "name": "stderr",
     "output_type": "stream",
     "text": [
      "C:\\Users\\lenovo\\AppData\\Local\\Temp\\ipykernel_173648\\546465545.py:10: VisibleDeprecationWarning: Creating an ndarray from ragged nested sequences (which is a list-or-tuple of lists-or-tuples-or ndarrays with different lengths or shapes) is deprecated. If you meant to do this, you must specify 'dtype=object' when creating the ndarray.\n",
      "  DATA_text = np.array(DATA_text)\n",
      "C:\\Users\\lenovo\\AppData\\Local\\Temp\\ipykernel_173648\\546465545.py:12: UserWarning: `Model.predict_generator` is deprecated and will be removed in a future version. Please use `Model.predict`, which supports generators.\n",
      "  test_model_pred  = model.predict_generator(text.__iter__(), steps=len(text), verbose=1)\n"
     ]
    },
    {
     "name": "stdout",
     "output_type": "stream",
     "text": [
      "WARNING:tensorflow:5 out of the last 60 calls to <function Model.make_predict_function.<locals>.predict_function at 0x000002CF066D35E0> triggered tf.function retracing. Tracing is expensive and the excessive number of tracings could be due to (1) creating @tf.function repeatedly in a loop, (2) passing tensors with different shapes, (3) passing Python objects instead of tensors. For (1), please define your @tf.function outside of the loop. For (2), @tf.function has reduce_retracing=True option that can avoid unnecessary retracing. For (3), please refer to https://www.tensorflow.org/guide/function#controlling_retracing and https://www.tensorflow.org/api_docs/python/tf/function for  more details.\n",
      "1/1 [==============================] - 4s 4s/step\n",
      "----------------------\n",
      "评论内容： 虽然有巨石，实在太扯漏洞多得像筛子\n",
      "预测评分：4星以下\n",
      "预测情感：负向\n"
     ]
    }
   ],
   "source": [
    "sentence1 = '虽然有巨石，实在太扯漏洞多得像筛子'\n",
    "sentence2 = 'AWOSOME！看得我肾上腺激素爆发啊！！！'\n",
    "sentence3 = 'FAST系列最喜欢的一季'\n",
    "sentence4 = '今年最佳动作电影诞生'\n",
    "sentence5 = '不爱鸡肉男不爱香车，到处找剧情bug，这电影看得累啊。'\n",
    "sentence6 = '不出意外，这就是我的年度华语最佳了，无懈可击那种。'\n",
    "sentence7 = '主题浮于表面…表达做作且矫情…警察局的戏份是把观众当傻逼吗…为什么要大早上来看一部青春伤痛文学式的狗血电影啊…四字dd演的倒还行'\n",
    "bert_predict(sentence1)"
   ]
  }
 ],
 "metadata": {
  "kernelspec": {
   "display_name": "Python 3 (ipykernel)",
   "language": "python",
   "name": "python3"
  },
  "language_info": {
   "codemirror_mode": {
    "name": "ipython",
    "version": 3
   },
   "file_extension": ".py",
   "mimetype": "text/x-python",
   "name": "python",
   "nbconvert_exporter": "python",
   "pygments_lexer": "ipython3",
   "version": "3.9.7"
  }
 },
 "nbformat": 4,
 "nbformat_minor": 5
}
